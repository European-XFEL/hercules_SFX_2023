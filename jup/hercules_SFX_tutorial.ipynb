{
 "cells": [
  {
   "cell_type": "markdown",
   "id": "b082ac17-fcee-45fb-8039-7cd03abc6610",
   "metadata": {},
   "source": [
    "# Serial Femtosecond Crystallography at European XFEL"
   ]
  },
  {
   "cell_type": "markdown",
   "id": "50819e68-b2d4-4881-abf6-05acbb18080e",
   "metadata": {},
   "source": [
    "## Experimental setup\n",
    "In a typical SFX experiment at the SPB/SFX (and also the FXE) instrument, microcrystalline sample is delivered by a liquid jet system - either acqueous solution delivered into a vacuum chamber with jet speeds up to 120 m/s, or more viscous solutions delivered to an interaction region at atmospheric pressure. The jet stream is aligned to the X-ray beam such that sample is hit by FEL X-ray pulses perpendicularly at a rate of typically 1.1 MHz (900 ns intervals of femtosecond pulses, up to 352 pulses in a train, 10 trains per second), and with the detector at the same repetition rate for recordings, i.e. taking a total of 3520 image frames per second. The crystal hit rate largely depends on the jet speed, and lies in the range of 1% to 10% for most experiments. It is much higher for the slower viscous jets."
   ]
  },
  {
   "cell_type": "markdown",
   "id": "f286f52c-fc9d-4444-afe2-1bae30d8e189",
   "metadata": {},
   "source": [
    "![XFEL_crystallography_setup](img/XFEL_crystallography.png)"
   ]
  },
  {
   "cell_type": "markdown",
   "id": "4419eac3-081a-4184-b1fe-753c11c60efd",
   "metadata": {},
   "source": [
    "\n",
    "The goal of the experiment is to reconstruct the electron density within the crystal unit cell (resp. asymmetric unit) so that a structural model of the protein can be built into it.\n",
    "\n",
    "For example, we will be working with the data collected with the hen egg white lysozyme:\n",
    "\n",
    "![lysozyme_3D_small](img/lysozyme_3D_small.png)"
   ]
  },
  {
   "cell_type": "markdown",
   "id": "bf0cb31f-731f-4305-ac64-32c9b47f0657",
   "metadata": {},
   "source": [
    " "
   ]
  },
  {
   "cell_type": "markdown",
   "id": "bcaaf968-a68e-403a-b9e6-5886455748d6",
   "metadata": {},
   "source": [
    " "
   ]
  },
  {
   "cell_type": "markdown",
   "id": "121a285a-7873-42f6-b8b3-d4050217f4af",
   "metadata": {},
   "source": [
    "## Exploring the data"
   ]
  },
  {
   "cell_type": "markdown",
   "id": "6f4897df-81af-42e3-a27f-5a8c0582c953",
   "metadata": {},
   "source": [
    "First of all, lets load some useful libraries:"
   ]
  },
  {
   "cell_type": "code",
   "execution_count": null,
   "id": "a82502b1-3e75-490b-8065-24f2f203b1a1",
   "metadata": {},
   "outputs": [],
   "source": [
    "from subprocess import check_output\n",
    "\n",
    "import numpy as np\n",
    "import h5py\n",
    "import matplotlib.pyplot as plt"
   ]
  },
  {
   "cell_type": "markdown",
   "id": "905fd854-d426-4e95-841e-c753cf8d94c2",
   "metadata": {},
   "source": [
    "Data collected in each experiment are stored in the dedicated proposal folders. To easily find the proposal (and run) folder we provide a command line tool `findxfel`:\n",
    "\n",
    "```shell\n",
    "findxfel 700000 30 --proc\n",
    "```\n",
    "\n",
    "in this example `--proc` stands for 'processed', or calibrated by offline calibration pipeline, data."
   ]
  },
  {
   "cell_type": "code",
   "execution_count": null,
   "id": "f1c3558c-abea-4752-92db-443164ac757f",
   "metadata": {},
   "outputs": [],
   "source": [
    "findxfel_command = \"findxfel 700000 30 --proc\"\n",
    "p700000_r0030_path = check_output(findxfel_command.split()).decode('utf-8').strip()\n",
    "print(f\"\\nData from the example proposal 700000 run 30 is stored at:\\n\\n{p700000_r0030_path}\\n\")"
   ]
  },
  {
   "cell_type": "markdown",
   "id": "8d5f10e0-075f-475c-8569-9f0ccd7f2a22",
   "metadata": {},
   "source": [
    "We can take a look inside of this folder with the `ls` command."
   ]
  },
  {
   "cell_type": "code",
   "execution_count": null,
   "id": "9a335b40-5528-4b52-84c6-4d78d230965b",
   "metadata": {},
   "outputs": [],
   "source": [
    "p700000_r0030_files = check_output(f\"ls {p700000_r0030_path}\".split()).decode('utf-8')\n",
    "for file in p700000_r0030_files.split()[:4]:\n",
    "    if 'CORR-R0097-AGIPD' in file:\n",
    "        print(file)\n",
    "print(\"...\")\n",
    "for file in p700000_r0030_files.split()[61:64]:\n",
    "    if 'CORR-R0097-AGIPD' in file:\n",
    "        print(file)\n",
    "print(\"...\")"
   ]
  },
  {
   "cell_type": "markdown",
   "id": "93d7ec20-3d82-40e6-8b69-17d0290620e2",
   "metadata": {},
   "source": [
    "Name of the data file, e.g. `CORR-R0097-AGIPD03-S00001.h5`, contains some useful information:\n",
    "- `CORR` stands for corrected (processed/calibrated) data\n",
    "- `R0097` represents the original run number during which the data have been collected\n",
    "- `AGIPD03` means module 3 of the AGIPD detector, in total this detector has 16 modules numbered from 0 to 15\n",
    "- `S00001` reperesents a sequence, basically an order in which datafiles have been written"
   ]
  },
  {
   "cell_type": "markdown",
   "id": "1dcc6ba9-8ef7-4265-8342-4148c6e202d7",
   "metadata": {},
   "source": [
    "We can peek into structure of one of the files with the `h5glance` command:\n",
    "\n",
    "```shell\n",
    "h5glance $(findxfel 700000 30 --proc)/CORR-R0097-AGIPD07-S00012.h5\n",
    "```"
   ]
  },
  {
   "cell_type": "code",
   "execution_count": null,
   "id": "d8b30ea7-dd2c-484c-8a8b-a39128851838",
   "metadata": {},
   "outputs": [],
   "source": [
    "p700000_r0030_1file = f\"{p700000_r0030_path}/CORR-R0097-AGIPD04-S00000.h5\"\n",
    "p700000_r0030_structure = check_output(f\"h5glance {p700000_r0030_1file}\".split()).decode('utf-8')\n",
    "print(p700000_r0030_structure)"
   ]
  },
  {
   "cell_type": "markdown",
   "id": "1eea98b5-3f6b-450c-8cad-2cba14cd721a",
   "metadata": {},
   "source": [
    "Take a closer look at `/INSTRUMENT/SPB_DET_AGIPD1M-1/DET/4CH0:xtdf/image/data` - this is an array of our data:\n",
    "```text\n",
    "data [float32: 28416 × 512 × 128]\n",
    "```\n",
    "\n",
    "There `28416` is the number of collected data frames in this files, each `512px × 128px`. Lets visualize data from 1 frame:"
   ]
  },
  {
   "cell_type": "code",
   "execution_count": null,
   "id": "8b6d7b12-f0b0-4e21-83bc-f1672b026308",
   "metadata": {},
   "outputs": [],
   "source": [
    "with h5py.File(p700000_r0030_1file, 'r') as h5_file:\n",
    "    agipd_data_arr_p4 = h5_file['/INSTRUMENT/SPB_DET_AGIPD1M-1/DET/4CH0:xtdf/image/data'][95]\n",
    "\n",
    "plt.figure(figsize=(12, 3))\n",
    "plt.imshow(np.swapaxes(agipd_data_arr_p4, 0, 1), origin='lower', interpolation='none', vmin=0, vmax=3000)"
   ]
  },
  {
   "cell_type": "markdown",
   "id": "4d355b6c-e6dd-44c3-af9b-e1ce5bcb80a6",
   "metadata": {},
   "source": [
    " "
   ]
  },
  {
   "cell_type": "markdown",
   "id": "14e936a9-a941-416b-96c5-0f014f4686a1",
   "metadata": {},
   "source": [
    " "
   ]
  },
  {
   "cell_type": "markdown",
   "id": "44e30511-ecbe-42b8-b373-334b33f49e8a",
   "metadata": {},
   "source": [
    "## Detector geometry"
   ]
  },
  {
   "cell_type": "markdown",
   "id": "175b4dee-0b87-4f97-8d0f-95f61126a3e2",
   "metadata": {},
   "source": [
    "To work with the multimodular detectors geometry data analysis group provide an `extra_geom` library:"
   ]
  },
  {
   "cell_type": "code",
   "execution_count": null,
   "id": "4acbb3dd-4681-43ce-9cad-07cea18372a7",
   "metadata": {},
   "outputs": [],
   "source": [
    "from extra_geom import AGIPD_1MGeometry, LPD_1MGeometry"
   ]
  },
  {
   "cell_type": "markdown",
   "id": "0cfc1447-d0f8-4fc3-af84-8bec8d5d74b6",
   "metadata": {},
   "source": [
    "Geometry file contains information on the spatial position of each detector module:"
   ]
  },
  {
   "cell_type": "code",
   "execution_count": null,
   "id": "dadac6c1-9abd-425c-97d8-ae93b454044b",
   "metadata": {},
   "outputs": [],
   "source": [
    "agipd_geom_file = \"../geom/agipd_p700000_r0030_v01.geom\"\n",
    "agipd_geom = AGIPD_1MGeometry.from_crystfel_geom(agipd_geom_file)\n",
    "agipd_geom.inspect()"
   ]
  },
  {
   "cell_type": "markdown",
   "id": "39ba4f0b-e416-4eb6-9e29-db5abc9b4dc6",
   "metadata": {},
   "source": [
    "Such geometry object allows to plot whole detector image, but it requires data from all modules arranged in one array. There are 3 obvious options on how we can proceed:\n",
    "- read data for each module from the `proc` files and arrange it into a single array manually\n",
    "- use `extra_data` module to read and stack detector data from the `proc` files\n",
    "- or use `extra_data` to generate and write virtual dataset with links to the `proc` data arranged into a single array"
   ]
  },
  {
   "cell_type": "markdown",
   "id": "e11aea0f-0042-4460-b1be-c76a822ea03e",
   "metadata": {},
   "source": [
    "We will use the third option. For this run in the terminal following commands:\n",
    "\n",
    "```shell\n",
    "cd ~/hercules_SFX_2023/data\n",
    "./make_vds_proc.sh\n",
    "```"
   ]
  },
  {
   "cell_type": "markdown",
   "id": "fb1dfe29-4de3-4a76-92cf-a705b9bfaf40",
   "metadata": {},
   "source": [
    "`make_vds_proc.sh` script executes `extra-data-make-virtual-cxi`, a command line interface of `extra_data` for generating such VDS files.\n",
    "\n",
    "Let's take a look inside the generated file:\n",
    "\n",
    "```shell\n",
    "h5glance p700000_r0030_proc.cxi\n",
    "```\n",
    "\n",
    "or:"
   ]
  },
  {
   "cell_type": "code",
   "execution_count": null,
   "id": "597713e4-246e-4ea8-8ae0-88b300cd69d6",
   "metadata": {},
   "outputs": [],
   "source": [
    "p700000_r0030_vds_file = \"../data/p700000_r0030_proc.cxi\"\n",
    "p700000_r0030_vds_structure = check_output(f\"h5glance {p700000_r0030_vds_file}\".split()).decode('utf-8')\n",
    "print(p700000_r0030_vds_structure)"
   ]
  },
  {
   "cell_type": "markdown",
   "id": "dbc6c520-8def-4dd0-9eb7-ab06a05fa438",
   "metadata": {},
   "source": [
    "`/entry_1/instrument_1/detector_1/data` is an array with all `639616` data frames from `16` detector modules, each `512px × 128px`."
   ]
  },
  {
   "cell_type": "code",
   "execution_count": null,
   "id": "c6702838-14e8-418a-b214-048e48bd0946",
   "metadata": {},
   "outputs": [],
   "source": [
    "with h5py.File(p700000_r0030_vds_file, 'r') as vds_file:\n",
    "    agipd_data_arr = vds_file['/entry_1/data_1/data'][95]\n",
    "\n",
    "agipd_geom.plot_data_fast(agipd_data_arr, vmin=0, vmax=3000)"
   ]
  },
  {
   "cell_type": "markdown",
   "id": "80fb4289-dec6-4bd3-bce8-b35161de09a6",
   "metadata": {},
   "source": [
    " "
   ]
  },
  {
   "cell_type": "markdown",
   "id": "195ceb7f-e466-4774-aa00-8051aea54f08",
   "metadata": {},
   "source": [
    " "
   ]
  },
  {
   "cell_type": "markdown",
   "id": "3425ba63-a18e-4351-818b-04e937a7ee27",
   "metadata": {},
   "source": [
    "## Mask bad detector pixels\n",
    "\n",
    "By exploring the detector image above one might notice that it contains not only water scattering and lysozyme break peaks, but also some bright misbehaving pixels. Most of these bad pixels can be covered with a mask generated by the offline calibration pipeline, which is stored under `/INSTRUMENT/SPB_DET_AGIPD1M-1/DET/4CH0:xtdf/image/mask` in the `proc` data or `/entry_1/instrument_1/detector_1/mask` in the VDS file."
   ]
  },
  {
   "cell_type": "code",
   "execution_count": null,
   "id": "cb94f3aa-b7eb-4968-aebd-85c9f13024d4",
   "metadata": {},
   "outputs": [],
   "source": [
    "with h5py.File(p700000_r0030_vds_file, 'r') as vds_file:\n",
    "    agipd_mask_arr = vds_file['/entry_1/data_1/mask'][95]\n",
    "\n",
    "agipd_plot_arr = agipd_data_arr * (agipd_mask_arr == 0).astype(float)\n",
    "\n",
    "agipd_geom.plot_data_fast(agipd_plot_arr, vmin=0, vmax=3000)"
   ]
  },
  {
   "cell_type": "markdown",
   "id": "d9426d71-34de-4fa8-82de-ca33739c6806",
   "metadata": {},
   "source": [
    "Sometimes a mask from the offline calibration is not enough and an additional, external, mask may be required."
   ]
  },
  {
   "cell_type": "markdown",
   "id": "b2cced0a-14da-4a40-a108-6314e2178fb5",
   "metadata": {},
   "source": [
    " "
   ]
  },
  {
   "cell_type": "markdown",
   "id": "901081cf-c37f-4945-952e-5ede57da2523",
   "metadata": {},
   "source": [
    " "
   ]
  },
  {
   "cell_type": "markdown",
   "id": "b399e38b-b81e-4c2c-bf2f-444550346689",
   "metadata": {},
   "source": [
    "## Lanthanum hexaboride powder scattering\n",
    "\n",
    "Before proceeding further with the analysis of data from the lysozyme crystals scattering let's take a look at the data from scattering X-rays on lanthanum hexaboride (LaB6) powder:\n",
    "\n",
    "![LaB6](img/LaB6.png)"
   ]
  },
  {
   "cell_type": "markdown",
   "id": "c2b39544-4107-4515-998e-0549c4f4e6fc",
   "metadata": {},
   "source": [
    "These data have been measured with a bit different detector - LPD1M:"
   ]
  },
  {
   "cell_type": "code",
   "execution_count": null,
   "id": "1ec31bba-5e8c-4b42-b289-51bb481e10a9",
   "metadata": {},
   "outputs": [],
   "source": [
    "lpd_geom_file = \"../geom/lpd1m_p700000_r0299_v01.geom\"\n",
    "lpd_geom = LPD_1MGeometry.from_crystfel_geom(lpd_geom_file)\n",
    "lpd_geom.inspect()"
   ]
  },
  {
   "cell_type": "markdown",
   "id": "46cf7a11-b500-4411-a7cf-fceb6992d952",
   "metadata": {},
   "source": [
    "This detector require some additional mask for bad detector pixels which we will load from an external file:"
   ]
  },
  {
   "cell_type": "code",
   "execution_count": null,
   "id": "d3523c70-621b-4022-98f3-ed061bef48c8",
   "metadata": {},
   "outputs": [],
   "source": [
    "lpd_ext_mask_file = \"../mask/mask_p700000_r0299_total_v2.h5\"\n",
    "with h5py.File(lpd_ext_mask_file, 'r') as h5m_in:\n",
    "    lpd_ext_mask = h5m_in['/entry_1/data_1/mask'][:]\n",
    "\n",
    "lpd_geom.plot_data_fast(lpd_ext_mask.astype(float))"
   ]
  },
  {
   "cell_type": "markdown",
   "id": "9ecd85dd-0b4a-4c1c-a472-b966c90619bf",
   "metadata": {},
   "source": [
    "To smooth random detector background we will take an average of 20 data frames:"
   ]
  },
  {
   "cell_type": "code",
   "execution_count": null,
   "id": "3e5cf96c-3313-4400-a030-87f4128b3b99",
   "metadata": {},
   "outputs": [],
   "source": [
    "p700000_r0299_vds_file = \"../data/p700000_r0299_proc.cxi\"\n",
    "with h5py.File(p700000_r0299_vds_file, 'r') as vds_file:\n",
    "    lpd_data_arr = vds_file['/entry_1/data_1/data'][:20]\n",
    "    lpd_mask_arr = (vds_file['/entry_1/data_1/mask'][:20] == 0).astype(float)\n",
    "\n",
    "lpd_data_mask_arr = lpd_data_arr * lpd_mask_arr\n",
    "lpd_data_mean = np.mean(lpd_data_mask_arr, axis=0) * (lpd_ext_mask == 0).astype(float)\n",
    "\n",
    "lpd_geom.plot_data_fast(lpd_data_mean, vmin=0, vmax=4000)"
   ]
  },
  {
   "cell_type": "markdown",
   "id": "dc1328db-e60a-4011-8eb9-0e353ba32cc3",
   "metadata": {},
   "source": [
    "From the image above one can see that one of the detector pannels, on the bottom right, has been switched off during the experiment.\n",
    "\n",
    "Our data, as expected, appear as a set of co-centric rings with the centre at our X-ray beam. We are going to transform it to the polar coordinates with a help of `pyFAI` library:"
   ]
  },
  {
   "cell_type": "code",
   "execution_count": null,
   "id": "9ea00e54-65c4-4640-9aec-1d3db2d6dd45",
   "metadata": {},
   "outputs": [],
   "source": [
    "from pyFAI.azimuthalIntegrator import AzimuthalIntegrator"
   ]
  },
  {
   "cell_type": "markdown",
   "id": "944d17d8-e704-46ab-aaa6-d9126b129878",
   "metadata": {},
   "source": [
    "As a reminder, [polar coordinate system](https://en.wikipedia.org/wiki/Polar_coordinate_system) is a two-dimensional coordinate system in which each point on a plane is determined by a distance from a reference point and an angle from a reference direction:\n",
    "\n",
    "![polar_to_cartesian.png](img/polar_to_cartesian.png)\n",
    "\n",
    "In our case a reference point is detector centre which corresponds to the X-ray beam position."
   ]
  },
  {
   "cell_type": "code",
   "execution_count": null,
   "id": "a4aeea59-6f05-45bd-b84e-7bd787e3f291",
   "metadata": {},
   "outputs": [],
   "source": [
    "lpd_frame_data, lpd_frame_centre = lpd_geom.position_modules(lpd_data_mean)\n",
    "\n",
    "integrator = AzimuthalIntegrator(\n",
    "    dist=lpd_geom.metadata['crystfel']['clen'],\n",
    "    pixel1=lpd_geom.pixel_size,\n",
    "    pixel2=lpd_geom.pixel_size,\n",
    "    poni1=lpd_frame_centre[0] * lpd_geom.pixel_size,\n",
    "    poni2=lpd_frame_centre[1] * lpd_geom.pixel_size\n",
    ")\n",
    "\n",
    "radius = ((lpd_frame_data.shape[0]/2)**2 + (lpd_frame_data.shape[1]/2)**2)**(1/2)\n",
    "azimuth_bins = radius * (lpd_frame_data.shape[0]/lpd_frame_data.shape[1])\n",
    "\n",
    "lpd_integrate2d_result = integrator.integrate2d(\n",
    "    lpd_frame_data,\n",
    "    int(radius),\n",
    "    int(azimuth_bins),\n",
    "    unit='r_m',\n",
    "    dummy=np.nan,\n",
    "    method='cython'\n",
    ")\n",
    "\n",
    "lpd_integrate_2d = lpd_integrate2d_result.intensity\n",
    "lpd_integrate_r = lpd_integrate2d_result.radial\n",
    "lpd_integrate_phi = lpd_integrate2d_result.azimuthal"
   ]
  },
  {
   "cell_type": "markdown",
   "id": "c5fc08da-f203-4ff4-a02f-314d64133bfc",
   "metadata": {},
   "source": [
    "To visualize our transformed data we will use a function:"
   ]
  },
  {
   "cell_type": "code",
   "execution_count": null,
   "id": "ae8da86c-e440-4943-a18f-e2e33ba1cafc",
   "metadata": {},
   "outputs": [],
   "source": [
    "def draw_polar_array(img_arr, invert_x: bool=True):\n",
    "    fig = plt.figure(figsize=(10, 10))\n",
    "    ax = fig.add_subplot(1, 1, 1)\n",
    "    im = ax.imshow(img_arr)\n",
    "    ax.set_xlabel('r, pixels')\n",
    "    ax.set_ylabel('theta, pixels')\n",
    "    if invert_x:\n",
    "        ax.invert_xaxis()\n",
    "    ax.invert_yaxis()"
   ]
  },
  {
   "cell_type": "code",
   "execution_count": null,
   "id": "3c9b1e22-77cd-4650-8661-a211fe2ff488",
   "metadata": {},
   "outputs": [],
   "source": [
    "draw_polar_array(np.clip(lpd_integrate_2d, 0, 4000), invert_x=False)"
   ]
  },
  {
   "cell_type": "markdown",
   "id": "23f422b5-5bde-40b1-ad8f-4d4bbdaf6c32",
   "metadata": {},
   "source": [
    "If detector centre have been estimated properly and detector pannels are perfectly aligned our scattering data in polar coordinates should appear as a set of straight vertical lines.\n",
    "\n",
    "Let's take an average over the $\\theta$ axis:"
   ]
  },
  {
   "cell_type": "code",
   "execution_count": null,
   "id": "a61d9bed-9229-4845-9b5d-77fb7863dbf6",
   "metadata": {},
   "outputs": [],
   "source": [
    "lpd_integrate_1d_r_mean = np.nanmean(lpd_integrate_2d, axis=0)"
   ]
  },
  {
   "cell_type": "code",
   "execution_count": null,
   "id": "8c920541-a7fe-422a-b126-4a06bed328e4",
   "metadata": {},
   "outputs": [],
   "source": [
    "int1d_x = lpd_integrate_r\n",
    "int1d = lpd_integrate_1d_r_mean\n",
    "\n",
    "plt.figure(figsize=(18, 4))\n",
    "plt.plot(int1d_x, int1d)\n",
    "plt.xlabel('r, m', fontsize=18)\n",
    "plt.ylabel('intensity', fontsize=18)\n",
    "plt.yscale('log')"
   ]
  },
  {
   "cell_type": "markdown",
   "id": "364af252-1e00-4917-a105-9e2e60d63dac",
   "metadata": {},
   "source": [
    "From the structure of our powder sample we know that diffraction rings should be at the resolution values of $4.16Å$, $2.94Å$, $2.40Å$, $2.08Å$, $1.86Å$, ..."
   ]
  },
  {
   "cell_type": "code",
   "execution_count": null,
   "id": "ee8c6c85-7b50-46c1-a0a4-9afe24d9e679",
   "metadata": {},
   "outputs": [],
   "source": [
    "lab6_rings_A = [4.157, 2.939, 2.400, 2.078, 1.859]"
   ]
  },
  {
   "cell_type": "markdown",
   "id": "10923445-712b-4f4b-9a3a-fbd20e783b96",
   "metadata": {},
   "source": [
    "To transform these resolution values $d$ to values in meters $r$ we have to know the exact sample-to-detector distance $L$ and X-rays energy $E$ and use next equations:\n",
    "\n",
    "![rings_r](img/rings_r.png)\n",
    "\n",
    "![wave_length](img/wave_length.png)\n",
    "\n",
    "With this we can write a function:"
   ]
  },
  {
   "cell_type": "code",
   "execution_count": null,
   "id": "b8530522-db15-44b0-836c-e45e3111abfc",
   "metadata": {},
   "outputs": [],
   "source": [
    "def get_det_r(clen, d, wave_E):\n",
    "    \"\"\"\n",
    "    clen - in m\n",
    "    d - in A\n",
    "    wave_E - in eV\n",
    "    \n",
    "    r - in m\n",
    "    \"\"\"\n",
    "    hc = 1.23984198\n",
    "    wave_len_A = (hc / wave_E) * 10000\n",
    "\n",
    "    l_div_d = wave_len_A / d\n",
    "    res = clen * np.sqrt((1 / (1 - l_div_d**2/2)**2) - 1)\n",
    "    return res"
   ]
  },
  {
   "cell_type": "markdown",
   "id": "ea4094dc-891a-4eea-b186-51943b4c2849",
   "metadata": {},
   "source": [
    "Knowing from the experiment that the sample-to-detector distance was $39.5cm$ and X-rays energy $9425eV$ we can check how does our distribution allign to the prediction:"
   ]
  },
  {
   "cell_type": "code",
   "execution_count": null,
   "id": "74c8340a-08a6-44ae-ae1f-de8cea7c63c8",
   "metadata": {},
   "outputs": [],
   "source": [
    "clen = 0.395\n",
    "wave_E = 9425\n",
    "lab6_rings_r = [get_det_r(clen, d, wave_E) for d in lab6_rings_A]\n",
    "\n",
    "plt.figure(figsize=(18, 4))\n",
    "plt.plot(int1d_x, int1d)\n",
    "for lab6_r in lab6_rings_r:\n",
    "    plt.axvline(lab6_r, color='r', linestyle=':', alpha=0.8)\n",
    "plt.xlabel('r, m', fontsize=18)\n",
    "plt.ylabel('intensity', fontsize=18)\n",
    "plt.yscale('log')"
   ]
  },
  {
   "cell_type": "markdown",
   "id": "28e705e4-0c9d-46ad-a847-14c2f1880d22",
   "metadata": {},
   "source": [
    " "
   ]
  },
  {
   "cell_type": "markdown",
   "id": "0711c5b1-ea7f-4ec6-b75c-2a5218891a96",
   "metadata": {},
   "source": [
    " "
   ]
  },
  {
   "cell_type": "markdown",
   "id": "64e21b85-3bbb-4323-951f-50d0b63356c3",
   "metadata": {},
   "source": [
    "## Back to the serial crystallography - using CrystFEL suite\n",
    "\n",
    "[CrystFEL](https://www.desy.de/~twhite/crystfel/) is a suite of programs for processing Serial Femtosecond Crystallography diffraction data. It comprises programs for indexing and integrating diffraction patterns, scaling and merging intensities, calculating figures of merit, and many more.\n",
    "\n",
    "To start CrystFEL as a GUI one should simply run in the terminal within VISA image:\n",
    "\n",
    "```shell\n",
    "crystfel\n",
    "```\n",
    "\n",
    "- load the data from `~/hercules_SFX_2023/data/p700000_r0030_proc.cxi`\n",
    "- select geometry from `~/hercules_SFX_2023/geom/agipd_p700000_r0030_v01.geom`\n",
    "- in menu `Tools -> Jump to frame` choose frame number `//95`\n",
    "- scroll and vary the scale on the right fo better data visibility\n",
    "- in `Peak detection` tab:\n",
    "  - select 'peakfinder8'\n",
    "  - change minimum number of pixels to 1\n",
    "- in `Index this frame` tab:\n",
    "  - select cell file from `~/hercules_SFX_2023/cell/hewl.cell`\n",
    "  - chose only `XGANDALF` as indexing method\n",
    "  - deselect all additional options\n",
    "\n",
    "This should provide some guidance on how to start using the GUI - feel free to modify any parameters or select a different frame. A list of interesting frames can be found at:\n",
    "\n",
    "`hercules_SFX_2023/xwiz/t_01/indexed_p700000_r0030_n100.lst`"
   ]
  },
  {
   "cell_type": "markdown",
   "id": "777c5e07-2396-4116-bd4c-478a77dbd5d0",
   "metadata": {},
   "source": [
    "![visa_crystfel_gui](img/visa_crystfel_gui.png)"
   ]
  },
  {
   "cell_type": "markdown",
   "id": "4adda575-7b4c-4ec4-8999-fc09a7daea88",
   "metadata": {},
   "source": [
    " "
   ]
  },
  {
   "cell_type": "markdown",
   "id": "c863b55a-bd75-476c-99fa-1ef49dde7530",
   "metadata": {},
   "source": [
    " "
   ]
  },
  {
   "cell_type": "markdown",
   "id": "109e30be-f0a8-4edd-a3a8-732d1cb285ea",
   "metadata": {},
   "source": [
    "## EXtra-xwiz"
   ]
  },
  {
   "cell_type": "markdown",
   "id": "836094d4-7905-45ba-aaa5-42dbc516723a",
   "metadata": {},
   "source": [
    "CrystFEL also provide a command line interface `indexamajig` which allows to run the analysis from the terminal. To make use of this interface more convenient, reproducible and automatic we provide a data analysis pipeline `EXtra-xwiz`:\n",
    "\n",
    "![xwiz_schema](img/xwiz_schema.png)"
   ]
  },
  {
   "cell_type": "markdown",
   "id": "744c6b5c-149a-4c68-b887-abb83ee826cf",
   "metadata": {},
   "source": [
    "EXtra-xwiz allows to run analysis by setting peak finding, indexing and reflections scaling and merging parameters in a single configuration file. It handles distribution of computations over nodes on the SLURM cluster for faster computations and allows to handle automatically some of the processing steps specific for EuXFEL, such as generating virtual dataset files or splitting data frames into saparate datasets in the experiments with sample illumination by a pump laser."
   ]
  },
  {
   "cell_type": "markdown",
   "id": "cd85597e-8c71-49c0-86cb-624ee7ffc2e0",
   "metadata": {},
   "source": [
    "Let's take a look on the example of xwiz configuration file, for this run in the terminal:\n",
    "\n",
    "```shell\n",
    "cd ~/hercules_SFX_2023/xwiz/t_01\n",
    "vim xwiz_conf.toml\n",
    "```\n",
    "\n",
    "(to exit `vim` simply press `Esc` and type `:q`)"
   ]
  },
  {
   "cell_type": "code",
   "execution_count": null,
   "id": "2f941b98-90a0-4914-913c-dca00e5388cf",
   "metadata": {},
   "outputs": [],
   "source": [
    "xwiz_conf_file_t01 = \"../xwiz/t_01/xwiz_conf.toml\"\n",
    "with open(xwiz_conf_file_t01, 'r') as fin:\n",
    "    for line in fin:\n",
    "        print(line, end='')"
   ]
  },
  {
   "cell_type": "markdown",
   "id": "e6655edc-9a2e-41cd-88bb-e58a7297ecf9",
   "metadata": {},
   "source": [
    " "
   ]
  },
  {
   "cell_type": "markdown",
   "id": "e738b2a2-0748-4a54-a697-52f5defa276d",
   "metadata": {},
   "source": [
    "Configuration file is split into sections:\n",
    "- `[data]` contains information related to the input detector data, such as proposal and run number. It also has options for selecting a subset of frames, in this case we are going to use a list of preselected interesting frames `frames_list_file = \"indexed_p700000_r0030_n100.lst\"` - indexing rate in our test example should be ~100%, while with processing all data in this run it is in the order of 10%.\n",
    "- `[crystfel]` allows to specify different versions of CrystFEL suite. Out visa image contain only the newest to date version `0.10.2` which we specify as `0.10.2_visa`.\n",
    "- `[geom]` - path to the same AGIPD geometry file we have used before.\n",
    "- `[slurm]` - configuration of SLURM cluster computations distribution. We don't have access to the cluster and therefore will use `partition = 'local'`.\n",
    "- `[proc_coarse]` - parameters for peak search and indexing diffraction patterns. It is important to set a single thread computations with `n_cores = 1` otherwise processes in the visa image will get stuck. On Maxwell cluster we usually set `n_cores = -1`, which means using all available threads (usually 70) on each SLURM node.\n",
    "- `[unit_cell]` - path to the file with unit cell parameters.\n",
    "- `[merging]` - scaling and marging parameters for CrystFEL's `partialator` tool.\n",
    "\n",
    "To start processing with the xwiz pipeline simply execute in the same folder:\n",
    "\n",
    "```shell\n",
    "xwiz-workflow -a -d\n",
    "```\n",
    "\n",
    "After the processing it will generate a `p700000_r0030.stream` with CrystFEL output, a `partialator` folder with `.hkl` files and figures-of-merit tables, and a `p700000_r0030.summary` file with some summary of the processing results, for example:\n",
    "\n",
    "```shell\n",
    "vim ~/hercules_SFX_2023/xwiz/t_03/p700000_r0030.summary\n",
    "```"
   ]
  },
  {
   "cell_type": "code",
   "execution_count": null,
   "id": "2029609e-d7bd-4c84-af28-280afb1dd6b1",
   "metadata": {},
   "outputs": [],
   "source": [
    "xwiz_summary_file_t03 = \"../xwiz/t_03/p700000_r0030.summary\"\n",
    "with open(xwiz_summary_file_t03, 'r') as fin:\n",
    "    summary_lines = fin.readlines()\n",
    "    print(\"...\")\n",
    "    for line in summary_lines[49:]:\n",
    "        print(line, end='')"
   ]
  },
  {
   "cell_type": "markdown",
   "id": "88034e29-cb10-4153-81c5-8edc52747d3f",
   "metadata": {},
   "source": [
    "Of course in our example figures of merit will be much worse since we have processed only 100 crystals. To process more crystalls with a bit better time performance we can first write interesting frames into a new HD5 file with the script prepared in `~/hercules_SFX_2023/xwiz/t_02/`:\n",
    "\n",
    "```shell\n",
    "cd ~/hercules_SFX_2023/xwiz/t_02\n",
    "./prep_h5data.py\n",
    "```\n",
    "\n",
    "This should generate a `indexed_p700000_r0030_vds.h5` file. In the `xwiz_conf.toml` you can notice a difference in the `[data]` section:"
   ]
  },
  {
   "cell_type": "code",
   "execution_count": null,
   "id": "eb175a0c-06ef-40c4-b873-d5f80b9ee9d8",
   "metadata": {},
   "outputs": [],
   "source": [
    "xwiz_conf_file_t02 = \"../xwiz/t_02/xwiz_conf.toml\"\n",
    "with open(xwiz_conf_file_t02, 'r') as fin:\n",
    "    conf_lines_t02 = fin.readlines()\n",
    "    for line in conf_lines_t02[:5]:\n",
    "        print(line, end='')\n",
    "    print(\"...\")"
   ]
  },
  {
   "cell_type": "markdown",
   "id": "3ad1bbf6-b7ed-4e7c-839c-4be47c8cb774",
   "metadata": {},
   "source": [
    "There `vds_names = [\"indexed_p700000_r0030_vds.h5\"]` specifies our generated HD5 file, and `frames_range = {end = -1}` allows to select a subset of frames from it, with `end = -1` meaning to take all available frames from the file."
   ]
  },
  {
   "cell_type": "markdown",
   "id": "23ffee38-469e-4965-a251-a8f64b6d9798",
   "metadata": {},
   "source": [
    "CrystFEL output stream contains a lot of useful information and can be used, for example, to plot the distribution of cell parameters. For this run in the terminal within the visa image:\n",
    "\n",
    "```shell\n",
    "cell_explorer ~/hercules_SFX_2023/xwiz/t_01/p700000_r0030.stream\n",
    "```\n",
    "\n",
    "(or change to the stream in `t_02` or `t_03` example folder, although `t_03` may take long time to read all data)\n",
    "Distributions for `t_01` and `t_02` will be pretty low in statistics, but for `t_03` they should look like:\n",
    "\n",
    "![cell_expl_xwiz_t03](img/cell_expl_xwiz_t03.png)\n",
    "\n",
    "To fit the six unit cell parameters:\n",
    " - Adjust the scale for each parameter with the mouse scrolling while the pointer is over the distribution figure\n",
    " - Drag the mouse with shift left-button to mark an interval around the peak, for all 6 parameters\n",
    " - Select `Tools -> Fit cell` from the menu"
   ]
  },
  {
   "cell_type": "markdown",
   "id": "ad5047fe-0c7a-4063-966d-a8d903b46fbe",
   "metadata": {},
   "source": [
    "We can also use the CrystFEL stream to compute a sum of distributions of the peaks intensity (or the number of peaks per detector pixel, as depicted bellow). Hot to perform the computation is covered in the extra material at `~hercules_SFX_2023/jup/extra/hercules_SFX_sum_peaks.ipynb`, here will just load the result:"
   ]
  },
  {
   "cell_type": "code",
   "execution_count": null,
   "id": "564f325e-d98a-4e6c-89b1-dc2c735de4b7",
   "metadata": {},
   "outputs": [],
   "source": [
    "agipd_sum_peaks_file = \"extra/sum_peaks_p700000_r0030.h5\"\n",
    "with h5py.File(agipd_sum_peaks_file, 'r') as h5m_in:\n",
    "    agipd_intensity_sum = h5m_in['/sum_peaks/intensity_sum'][:]\n",
    "    agipd_peaks_num = h5m_in['/sum_peaks/peaks_num'][:]"
   ]
  },
  {
   "cell_type": "code",
   "execution_count": null,
   "id": "bcacfecc-483f-44f9-b057-9d3f102a1a9b",
   "metadata": {},
   "outputs": [],
   "source": [
    "agipd_geom.plot_data_fast(agipd_peaks_num, vmin=0, vmax=70)"
   ]
  },
  {
   "cell_type": "markdown",
   "id": "56421ea1-66b6-4e82-a738-2ee64465b11e",
   "metadata": {},
   "source": [
    " "
   ]
  },
  {
   "cell_type": "markdown",
   "id": "ab486ccd-6539-4e5b-a786-98fcccbee8b9",
   "metadata": {},
   "source": [
    "As an exercise - try to transform this image into the polar coordinates :)"
   ]
  },
  {
   "cell_type": "markdown",
   "id": "903848f4-1a1e-4045-a679-25f419eb6e7a",
   "metadata": {},
   "source": [
    "Structure factor intensities in the format of an `.hkl` file are stored by the pipeline in the `partialator` folder. Further processing to obtain electron density map and reconstruct the protein are outside of the scope of this tutorial, but [here](https://www.rcsb.org/3d-view/6ABN?preset=electronDensityMaps) you can see some 3D view of the Lysozyme, as on the beginning of the notebook.\n",
    "\n",
    "![lysozyme_3D](img/lysozyme_3D.png)"
   ]
  },
  {
   "cell_type": "code",
   "execution_count": null,
   "id": "6b7f8546-a40b-48f0-9b43-bc76e4d07ff3",
   "metadata": {},
   "outputs": [],
   "source": []
  }
 ],
 "metadata": {
  "kernelspec": {
   "display_name": "qw_modules",
   "language": "python",
   "name": "qw_modules"
  },
  "language_info": {
   "codemirror_mode": {
    "name": "ipython",
    "version": 3
   },
   "file_extension": ".py",
   "mimetype": "text/x-python",
   "name": "python",
   "nbconvert_exporter": "python",
   "pygments_lexer": "ipython3",
   "version": "3.7.3"
  }
 },
 "nbformat": 4,
 "nbformat_minor": 5
}
